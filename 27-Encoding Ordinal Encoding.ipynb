{
 "cells": [
  {
   "cell_type": "markdown",
   "id": "f824bdae",
   "metadata": {},
   "source": [
    "## Encoding Ordinal Encoding (categorical Data)\n",
    "### Ordinal Encoding works on ordinal Categorical data \n",
    "### Label Encoding works on label data (output columns)"
   ]
  },
  {
   "cell_type": "code",
   "execution_count": 47,
   "id": "d9026b37",
   "metadata": {},
   "outputs": [],
   "source": [
    "import pandas as pd \n",
    "import seaborn as sns \n",
    "from matplotlib import pyplot as plt \n",
    "import numpy as np "
   ]
  },
  {
   "cell_type": "code",
   "execution_count": 48,
   "id": "eb2f3248",
   "metadata": {},
   "outputs": [],
   "source": [
    "df=pd.read_csv(r\"https://raw.githubusercontent.com/campusx-official/100-days-of-machine-learning/main/day26-ordinal-encoding/customer.csv\")"
   ]
  },
  {
   "cell_type": "code",
   "execution_count": 60,
   "id": "603b1877",
   "metadata": {},
   "outputs": [
    {
     "data": {
      "text/plain": [
       "(Poor       18\n",
       " Good       18\n",
       " Average    14\n",
       " Name: review, dtype: int64,\n",
       " PG        18\n",
       " School    16\n",
       " UG        16\n",
       " Name: education, dtype: int64)"
      ]
     },
     "execution_count": 60,
     "metadata": {},
     "output_type": "execute_result"
    }
   ],
   "source": [
    "df[\"review\"].value_counts(),df[\"education\"].value_counts()\n"
   ]
  },
  {
   "cell_type": "markdown",
   "id": "86d84757",
   "metadata": {},
   "source": [
    "## All column are categorical columns so need to convert to numerical \n",
    "### Gender(nominal)\n",
    "### review(ordinal)\n",
    "### education(Ordinal)\n",
    "### purchased(nominal-label)"
   ]
  },
  {
   "cell_type": "raw",
   "id": "970a5ad9",
   "metadata": {},
   "source": [
    " removing age and gender from dataframe will handle later"
   ]
  },
  {
   "cell_type": "code",
   "execution_count": 50,
   "id": "99231fb9",
   "metadata": {},
   "outputs": [],
   "source": [
    "df=df.iloc[:,2:]"
   ]
  },
  {
   "cell_type": "code",
   "execution_count": 51,
   "id": "eb33c8b1",
   "metadata": {},
   "outputs": [],
   "source": [
    "from sklearn.model_selection import train_test_split"
   ]
  },
  {
   "cell_type": "code",
   "execution_count": 52,
   "id": "a07ef761",
   "metadata": {},
   "outputs": [],
   "source": [
    "x_train,x_test,y_train,y_test=train_test_split(df.drop(\"purchased\",axis=1),df[\"purchased\"],test_size=0.2,random_state=0)"
   ]
  },
  {
   "cell_type": "code",
   "execution_count": 56,
   "id": "cfabee96",
   "metadata": {},
   "outputs": [],
   "source": [
    "from sklearn.preprocessing import OrdinalEncoder"
   ]
  },
  {
   "cell_type": "code",
   "execution_count": 61,
   "id": "bd5d8d0e",
   "metadata": {},
   "outputs": [],
   "source": [
    "categories=[\n",
    "    [\"Poor\",\"Average\",\"Good\"],\n",
    "    [\"School\",\"UG\",\"PG\"]\n",
    "]"
   ]
  },
  {
   "cell_type": "code",
   "execution_count": 63,
   "id": "8dac792e",
   "metadata": {},
   "outputs": [],
   "source": [
    "oe=OrdinalEncoder(categories=categories)"
   ]
  },
  {
   "cell_type": "code",
   "execution_count": 64,
   "id": "6fdff62d",
   "metadata": {},
   "outputs": [
    {
     "data": {
      "text/plain": [
       "OrdinalEncoder(categories=[['Poor', 'Average', 'Good'], ['School', 'UG', 'PG']])"
      ]
     },
     "execution_count": 64,
     "metadata": {},
     "output_type": "execute_result"
    }
   ],
   "source": [
    "oe.fit(x_train)"
   ]
  },
  {
   "cell_type": "code",
   "execution_count": 72,
   "id": "7830479f",
   "metadata": {},
   "outputs": [
    {
     "data": {
      "text/plain": [
       "Index(['review', 'education'], dtype='object')"
      ]
     },
     "execution_count": 72,
     "metadata": {},
     "output_type": "execute_result"
    }
   ],
   "source": [
    "x_train.columns"
   ]
  },
  {
   "cell_type": "code",
   "execution_count": 66,
   "id": "c60be290",
   "metadata": {},
   "outputs": [],
   "source": [
    "x_train_oe=oe.transform(x_train)\n",
    "x_test_oe=oe.transform(x_test)"
   ]
  },
  {
   "cell_type": "code",
   "execution_count": 75,
   "id": "9479be81",
   "metadata": {},
   "outputs": [],
   "source": [
    "x_train_oe=pd.DataFrame(x_train_oe,columns=x_train.columns)\n",
    "x_test_oe=pd.DataFrame(x_test_oe,columns=x_test.columns)\n"
   ]
  },
  {
   "cell_type": "code",
   "execution_count": 79,
   "id": "c355dd16",
   "metadata": {},
   "outputs": [],
   "source": [
    "## review and education are ordinary encoded"
   ]
  },
  {
   "cell_type": "markdown",
   "id": "21b2a1a4",
   "metadata": {},
   "source": [
    "## label encoding on purchased columns (ouptut columns)"
   ]
  },
  {
   "cell_type": "code",
   "execution_count": 80,
   "id": "4de7d076",
   "metadata": {},
   "outputs": [],
   "source": [
    "from sklearn.preprocessing import LabelEncoder"
   ]
  },
  {
   "cell_type": "code",
   "execution_count": 81,
   "id": "d10e26ca",
   "metadata": {},
   "outputs": [],
   "source": [
    "le=LabelEncoder()"
   ]
  },
  {
   "cell_type": "code",
   "execution_count": 82,
   "id": "3a478c10",
   "metadata": {},
   "outputs": [
    {
     "data": {
      "text/plain": [
       "LabelEncoder()"
      ]
     },
     "execution_count": 82,
     "metadata": {},
     "output_type": "execute_result"
    }
   ],
   "source": [
    "le.fit(y_train)"
   ]
  },
  {
   "cell_type": "code",
   "execution_count": 83,
   "id": "c255baf2",
   "metadata": {},
   "outputs": [],
   "source": [
    "y_train_label=le.transform(y_train)\n",
    "y_test_label=le.transform(y_test)"
   ]
  },
  {
   "cell_type": "code",
   "execution_count": 84,
   "id": "f89d3834",
   "metadata": {},
   "outputs": [
    {
     "data": {
      "text/plain": [
       "array(['No', 'Yes'], dtype=object)"
      ]
     },
     "execution_count": 84,
     "metadata": {},
     "output_type": "execute_result"
    }
   ],
   "source": [
    "le.classes_"
   ]
  },
  {
   "cell_type": "markdown",
   "id": "9dae7673",
   "metadata": {},
   "source": [
    "## NO - 0, yes- 1"
   ]
  },
  {
   "cell_type": "code",
   "execution_count": 89,
   "id": "953d57a7",
   "metadata": {},
   "outputs": [
    {
     "data": {
      "text/plain": [
       "(array([1, 1, 0, 0, 0, 1, 1, 1, 1, 1, 0, 0, 1, 1, 1, 1, 0, 0, 0, 0, 1, 1,\n",
       "        0, 0, 0, 0, 1, 1, 0, 0, 1, 0, 1, 1, 0, 0, 0, 0, 1, 0]),\n",
       " array([0, 1, 1, 1, 0, 0, 0, 1, 1, 0]))"
      ]
     },
     "execution_count": 89,
     "metadata": {},
     "output_type": "execute_result"
    }
   ],
   "source": [
    "y_train_label,y_test_label"
   ]
  },
  {
   "cell_type": "markdown",
   "id": "8bda7361",
   "metadata": {},
   "source": [
    "# After Encoding\n",
    "### x_train_oe---(train feature dataframe)\n",
    "### x_test_oe---(test feature dataframe)\n",
    "### y_train_label(train label array )\n",
    "### y_test_label(test label array )"
   ]
  },
  {
   "cell_type": "code",
   "execution_count": null,
   "id": "3fbe0e52",
   "metadata": {},
   "outputs": [],
   "source": []
  }
 ],
 "metadata": {
  "kernelspec": {
   "display_name": "Python 3 (ipykernel)",
   "language": "python",
   "name": "python3"
  },
  "language_info": {
   "codemirror_mode": {
    "name": "ipython",
    "version": 3
   },
   "file_extension": ".py",
   "mimetype": "text/x-python",
   "name": "python",
   "nbconvert_exporter": "python",
   "pygments_lexer": "ipython3",
   "version": "3.9.13"
  }
 },
 "nbformat": 4,
 "nbformat_minor": 5
}
