{
 "cells": [
  {
   "cell_type": "code",
   "execution_count": 1,
   "id": "899f202a",
   "metadata": {},
   "outputs": [],
   "source": [
    "import pandas as pd \n",
    "import numpy as np \n"
   ]
  },
  {
   "cell_type": "code",
   "execution_count": 2,
   "id": "73de2fc2",
   "metadata": {},
   "outputs": [],
   "source": [
    "date=pd.read_csv(r\"https://raw.githubusercontent.com/campusx-official/100-days-of-machine-learning/main/day34-handling-date-and-time/orders.csv\")\n",
    "time=pd.read_csv(r\"https://raw.githubusercontent.com/campusx-official/100-days-of-machine-learning/main/day34-handling-date-and-time/messages.csv\")"
   ]
  },
  {
   "cell_type": "markdown",
   "id": "637f2256",
   "metadata": {},
   "source": [
    "## first thing to do in data time dataset is to convert the date time columns to date"
   ]
  },
  {
   "cell_type": "code",
   "execution_count": 7,
   "id": "9337b123",
   "metadata": {},
   "outputs": [],
   "source": [
    "date[\"date\"]=pd.to_datetime(date[\"date\"])"
   ]
  },
  {
   "cell_type": "code",
   "execution_count": 67,
   "id": "a10718d7",
   "metadata": {},
   "outputs": [],
   "source": [
    "time[\"date\"]=pd.to_datetime(time[\"date\"])\n",
    "time.drop(columns=\"msg\",inplace=True)"
   ]
  },
  {
   "cell_type": "code",
   "execution_count": 35,
   "id": "1a76b1b7",
   "metadata": {},
   "outputs": [],
   "source": [
    "date.drop(columns=[\"product_id\",\"city_id\",\"orders\"],inplace=True)"
   ]
  },
  {
   "cell_type": "markdown",
   "id": "db31d60f",
   "metadata": {},
   "source": [
    "## working on date of date datasets"
   ]
  },
  {
   "cell_type": "markdown",
   "id": "2a9eb54a",
   "metadata": {},
   "source": [
    "### Extract Year"
   ]
  },
  {
   "cell_type": "code",
   "execution_count": 36,
   "id": "b60e54aa",
   "metadata": {},
   "outputs": [
    {
     "data": {
      "text/html": [
       "<div>\n",
       "<style scoped>\n",
       "    .dataframe tbody tr th:only-of-type {\n",
       "        vertical-align: middle;\n",
       "    }\n",
       "\n",
       "    .dataframe tbody tr th {\n",
       "        vertical-align: top;\n",
       "    }\n",
       "\n",
       "    .dataframe thead th {\n",
       "        text-align: right;\n",
       "    }\n",
       "</style>\n",
       "<table border=\"1\" class=\"dataframe\">\n",
       "  <thead>\n",
       "    <tr style=\"text-align: right;\">\n",
       "      <th></th>\n",
       "      <th>date</th>\n",
       "      <th>date_year</th>\n",
       "      <th>date_month_no</th>\n",
       "      <th>date_month_name</th>\n",
       "      <th>date_day</th>\n",
       "      <th>date_day_of_week</th>\n",
       "      <th>date_day_of_week_name</th>\n",
       "    </tr>\n",
       "  </thead>\n",
       "  <tbody>\n",
       "    <tr>\n",
       "      <th>102</th>\n",
       "      <td>2018-08-30</td>\n",
       "      <td>2018</td>\n",
       "      <td>8</td>\n",
       "      <td>August</td>\n",
       "      <td>30</td>\n",
       "      <td>3</td>\n",
       "      <td>Thursday</td>\n",
       "    </tr>\n",
       "    <tr>\n",
       "      <th>571</th>\n",
       "      <td>2018-09-18</td>\n",
       "      <td>2018</td>\n",
       "      <td>9</td>\n",
       "      <td>September</td>\n",
       "      <td>18</td>\n",
       "      <td>1</td>\n",
       "      <td>Tuesday</td>\n",
       "    </tr>\n",
       "  </tbody>\n",
       "</table>\n",
       "</div>"
      ],
      "text/plain": [
       "          date  date_year  date_month_no date_month_name  date_day  \\\n",
       "102 2018-08-30       2018              8          August        30   \n",
       "571 2018-09-18       2018              9       September        18   \n",
       "\n",
       "     date_day_of_week date_day_of_week_name  \n",
       "102                 3              Thursday  \n",
       "571                 1               Tuesday  "
      ]
     },
     "execution_count": 36,
     "metadata": {},
     "output_type": "execute_result"
    }
   ],
   "source": [
    "date[\"date_year\"]=date[\"date\"].dt.year\n",
    "date.sample(2)"
   ]
  },
  {
   "cell_type": "markdown",
   "id": "4bbb8a9e",
   "metadata": {},
   "source": [
    "### Extract Month"
   ]
  },
  {
   "cell_type": "code",
   "execution_count": 37,
   "id": "fa325214",
   "metadata": {},
   "outputs": [
    {
     "data": {
      "text/html": [
       "<div>\n",
       "<style scoped>\n",
       "    .dataframe tbody tr th:only-of-type {\n",
       "        vertical-align: middle;\n",
       "    }\n",
       "\n",
       "    .dataframe tbody tr th {\n",
       "        vertical-align: top;\n",
       "    }\n",
       "\n",
       "    .dataframe thead th {\n",
       "        text-align: right;\n",
       "    }\n",
       "</style>\n",
       "<table border=\"1\" class=\"dataframe\">\n",
       "  <thead>\n",
       "    <tr style=\"text-align: right;\">\n",
       "      <th></th>\n",
       "      <th>date</th>\n",
       "      <th>date_year</th>\n",
       "      <th>date_month_no</th>\n",
       "      <th>date_month_name</th>\n",
       "      <th>date_day</th>\n",
       "      <th>date_day_of_week</th>\n",
       "      <th>date_day_of_week_name</th>\n",
       "    </tr>\n",
       "  </thead>\n",
       "  <tbody>\n",
       "    <tr>\n",
       "      <th>92</th>\n",
       "      <td>2019-05-30</td>\n",
       "      <td>2019</td>\n",
       "      <td>5</td>\n",
       "      <td>May</td>\n",
       "      <td>30</td>\n",
       "      <td>3</td>\n",
       "      <td>Thursday</td>\n",
       "    </tr>\n",
       "    <tr>\n",
       "      <th>865</th>\n",
       "      <td>2018-10-13</td>\n",
       "      <td>2018</td>\n",
       "      <td>10</td>\n",
       "      <td>October</td>\n",
       "      <td>13</td>\n",
       "      <td>5</td>\n",
       "      <td>Saturday</td>\n",
       "    </tr>\n",
       "  </tbody>\n",
       "</table>\n",
       "</div>"
      ],
      "text/plain": [
       "          date  date_year  date_month_no date_month_name  date_day  \\\n",
       "92  2019-05-30       2019              5             May        30   \n",
       "865 2018-10-13       2018             10         October        13   \n",
       "\n",
       "     date_day_of_week date_day_of_week_name  \n",
       "92                  3              Thursday  \n",
       "865                 5              Saturday  "
      ]
     },
     "execution_count": 37,
     "metadata": {},
     "output_type": "execute_result"
    }
   ],
   "source": [
    "date[\"date_month_no\"]=date[\"date\"].dt.month\n",
    "date.sample(2)"
   ]
  },
  {
   "cell_type": "markdown",
   "id": "0743a5bc",
   "metadata": {},
   "source": [
    "### Extract Month Name"
   ]
  },
  {
   "cell_type": "code",
   "execution_count": 38,
   "id": "8719f014",
   "metadata": {},
   "outputs": [
    {
     "data": {
      "text/html": [
       "<div>\n",
       "<style scoped>\n",
       "    .dataframe tbody tr th:only-of-type {\n",
       "        vertical-align: middle;\n",
       "    }\n",
       "\n",
       "    .dataframe tbody tr th {\n",
       "        vertical-align: top;\n",
       "    }\n",
       "\n",
       "    .dataframe thead th {\n",
       "        text-align: right;\n",
       "    }\n",
       "</style>\n",
       "<table border=\"1\" class=\"dataframe\">\n",
       "  <thead>\n",
       "    <tr style=\"text-align: right;\">\n",
       "      <th></th>\n",
       "      <th>date</th>\n",
       "      <th>date_year</th>\n",
       "      <th>date_month_no</th>\n",
       "      <th>date_month_name</th>\n",
       "      <th>date_day</th>\n",
       "      <th>date_day_of_week</th>\n",
       "      <th>date_day_of_week_name</th>\n",
       "    </tr>\n",
       "  </thead>\n",
       "  <tbody>\n",
       "    <tr>\n",
       "      <th>461</th>\n",
       "      <td>2019-10-20</td>\n",
       "      <td>2019</td>\n",
       "      <td>10</td>\n",
       "      <td>October</td>\n",
       "      <td>20</td>\n",
       "      <td>6</td>\n",
       "      <td>Sunday</td>\n",
       "    </tr>\n",
       "    <tr>\n",
       "      <th>160</th>\n",
       "      <td>2019-11-28</td>\n",
       "      <td>2019</td>\n",
       "      <td>11</td>\n",
       "      <td>November</td>\n",
       "      <td>28</td>\n",
       "      <td>3</td>\n",
       "      <td>Thursday</td>\n",
       "    </tr>\n",
       "  </tbody>\n",
       "</table>\n",
       "</div>"
      ],
      "text/plain": [
       "          date  date_year  date_month_no date_month_name  date_day  \\\n",
       "461 2019-10-20       2019             10         October        20   \n",
       "160 2019-11-28       2019             11        November        28   \n",
       "\n",
       "     date_day_of_week date_day_of_week_name  \n",
       "461                 6                Sunday  \n",
       "160                 3              Thursday  "
      ]
     },
     "execution_count": 38,
     "metadata": {},
     "output_type": "execute_result"
    }
   ],
   "source": [
    "date[\"date_month_name\"]=date[\"date\"].dt.month_name()\n",
    "date.sample(2)"
   ]
  },
  {
   "cell_type": "markdown",
   "id": "dcd5717a",
   "metadata": {},
   "source": [
    "### Extract Days"
   ]
  },
  {
   "cell_type": "code",
   "execution_count": 39,
   "id": "39a635b9",
   "metadata": {},
   "outputs": [
    {
     "data": {
      "text/html": [
       "<div>\n",
       "<style scoped>\n",
       "    .dataframe tbody tr th:only-of-type {\n",
       "        vertical-align: middle;\n",
       "    }\n",
       "\n",
       "    .dataframe tbody tr th {\n",
       "        vertical-align: top;\n",
       "    }\n",
       "\n",
       "    .dataframe thead th {\n",
       "        text-align: right;\n",
       "    }\n",
       "</style>\n",
       "<table border=\"1\" class=\"dataframe\">\n",
       "  <thead>\n",
       "    <tr style=\"text-align: right;\">\n",
       "      <th></th>\n",
       "      <th>date</th>\n",
       "      <th>date_year</th>\n",
       "      <th>date_month_no</th>\n",
       "      <th>date_month_name</th>\n",
       "      <th>date_day</th>\n",
       "      <th>date_day_of_week</th>\n",
       "      <th>date_day_of_week_name</th>\n",
       "    </tr>\n",
       "  </thead>\n",
       "  <tbody>\n",
       "    <tr>\n",
       "      <th>764</th>\n",
       "      <td>2019-07-26</td>\n",
       "      <td>2019</td>\n",
       "      <td>7</td>\n",
       "      <td>July</td>\n",
       "      <td>26</td>\n",
       "      <td>4</td>\n",
       "      <td>Friday</td>\n",
       "    </tr>\n",
       "    <tr>\n",
       "      <th>750</th>\n",
       "      <td>2018-09-18</td>\n",
       "      <td>2018</td>\n",
       "      <td>9</td>\n",
       "      <td>September</td>\n",
       "      <td>18</td>\n",
       "      <td>1</td>\n",
       "      <td>Tuesday</td>\n",
       "    </tr>\n",
       "  </tbody>\n",
       "</table>\n",
       "</div>"
      ],
      "text/plain": [
       "          date  date_year  date_month_no date_month_name  date_day  \\\n",
       "764 2019-07-26       2019              7            July        26   \n",
       "750 2018-09-18       2018              9       September        18   \n",
       "\n",
       "     date_day_of_week date_day_of_week_name  \n",
       "764                 4                Friday  \n",
       "750                 1               Tuesday  "
      ]
     },
     "execution_count": 39,
     "metadata": {},
     "output_type": "execute_result"
    }
   ],
   "source": [
    "date[\"date_day\"]=date[\"date\"].dt.day\n",
    "date.sample(2)"
   ]
  },
  {
   "cell_type": "markdown",
   "id": "162a6afe",
   "metadata": {},
   "source": [
    "### Extract Days of which week "
   ]
  },
  {
   "cell_type": "code",
   "execution_count": 40,
   "id": "1459b027",
   "metadata": {},
   "outputs": [
    {
     "data": {
      "text/html": [
       "<div>\n",
       "<style scoped>\n",
       "    .dataframe tbody tr th:only-of-type {\n",
       "        vertical-align: middle;\n",
       "    }\n",
       "\n",
       "    .dataframe tbody tr th {\n",
       "        vertical-align: top;\n",
       "    }\n",
       "\n",
       "    .dataframe thead th {\n",
       "        text-align: right;\n",
       "    }\n",
       "</style>\n",
       "<table border=\"1\" class=\"dataframe\">\n",
       "  <thead>\n",
       "    <tr style=\"text-align: right;\">\n",
       "      <th></th>\n",
       "      <th>date</th>\n",
       "      <th>date_year</th>\n",
       "      <th>date_month_no</th>\n",
       "      <th>date_month_name</th>\n",
       "      <th>date_day</th>\n",
       "      <th>date_day_of_week</th>\n",
       "      <th>date_day_of_week_name</th>\n",
       "    </tr>\n",
       "  </thead>\n",
       "  <tbody>\n",
       "    <tr>\n",
       "      <th>366</th>\n",
       "      <td>2019-07-22</td>\n",
       "      <td>2019</td>\n",
       "      <td>7</td>\n",
       "      <td>July</td>\n",
       "      <td>22</td>\n",
       "      <td>0</td>\n",
       "      <td>Monday</td>\n",
       "    </tr>\n",
       "    <tr>\n",
       "      <th>1</th>\n",
       "      <td>2018-08-15</td>\n",
       "      <td>2018</td>\n",
       "      <td>8</td>\n",
       "      <td>August</td>\n",
       "      <td>15</td>\n",
       "      <td>2</td>\n",
       "      <td>Wednesday</td>\n",
       "    </tr>\n",
       "  </tbody>\n",
       "</table>\n",
       "</div>"
      ],
      "text/plain": [
       "          date  date_year  date_month_no date_month_name  date_day  \\\n",
       "366 2019-07-22       2019              7            July        22   \n",
       "1   2018-08-15       2018              8          August        15   \n",
       "\n",
       "     date_day_of_week date_day_of_week_name  \n",
       "366                 0                Monday  \n",
       "1                   2             Wednesday  "
      ]
     },
     "execution_count": 40,
     "metadata": {},
     "output_type": "execute_result"
    }
   ],
   "source": [
    "date[\"date_day_of_week\"]=date[\"date\"].dt.dayofweek\n",
    "date.sample(2)"
   ]
  },
  {
   "cell_type": "markdown",
   "id": "253ff9a7",
   "metadata": {},
   "source": [
    "### Extract Day of Week Name"
   ]
  },
  {
   "cell_type": "code",
   "execution_count": 41,
   "id": "d458ba5f",
   "metadata": {},
   "outputs": [
    {
     "data": {
      "text/html": [
       "<div>\n",
       "<style scoped>\n",
       "    .dataframe tbody tr th:only-of-type {\n",
       "        vertical-align: middle;\n",
       "    }\n",
       "\n",
       "    .dataframe tbody tr th {\n",
       "        vertical-align: top;\n",
       "    }\n",
       "\n",
       "    .dataframe thead th {\n",
       "        text-align: right;\n",
       "    }\n",
       "</style>\n",
       "<table border=\"1\" class=\"dataframe\">\n",
       "  <thead>\n",
       "    <tr style=\"text-align: right;\">\n",
       "      <th></th>\n",
       "      <th>date</th>\n",
       "      <th>date_year</th>\n",
       "      <th>date_month_no</th>\n",
       "      <th>date_month_name</th>\n",
       "      <th>date_day</th>\n",
       "      <th>date_day_of_week</th>\n",
       "      <th>date_day_of_week_name</th>\n",
       "    </tr>\n",
       "  </thead>\n",
       "  <tbody>\n",
       "    <tr>\n",
       "      <th>414</th>\n",
       "      <td>2018-11-20</td>\n",
       "      <td>2018</td>\n",
       "      <td>11</td>\n",
       "      <td>November</td>\n",
       "      <td>20</td>\n",
       "      <td>1</td>\n",
       "      <td>Tuesday</td>\n",
       "    </tr>\n",
       "    <tr>\n",
       "      <th>642</th>\n",
       "      <td>2018-08-21</td>\n",
       "      <td>2018</td>\n",
       "      <td>8</td>\n",
       "      <td>August</td>\n",
       "      <td>21</td>\n",
       "      <td>1</td>\n",
       "      <td>Tuesday</td>\n",
       "    </tr>\n",
       "  </tbody>\n",
       "</table>\n",
       "</div>"
      ],
      "text/plain": [
       "          date  date_year  date_month_no date_month_name  date_day  \\\n",
       "414 2018-11-20       2018             11        November        20   \n",
       "642 2018-08-21       2018              8          August        21   \n",
       "\n",
       "     date_day_of_week date_day_of_week_name  \n",
       "414                 1               Tuesday  \n",
       "642                 1               Tuesday  "
      ]
     },
     "execution_count": 41,
     "metadata": {},
     "output_type": "execute_result"
    }
   ],
   "source": [
    "date[\"date_day_of_week_name\"]=date[\"date\"].dt.day_name()\n",
    "date.sample(2)"
   ]
  },
  {
   "cell_type": "markdown",
   "id": "229364ff",
   "metadata": {},
   "source": [
    "### Is that day a weekend or not"
   ]
  },
  {
   "cell_type": "code",
   "execution_count": 45,
   "id": "0ff723ff",
   "metadata": {},
   "outputs": [
    {
     "data": {
      "text/html": [
       "<div>\n",
       "<style scoped>\n",
       "    .dataframe tbody tr th:only-of-type {\n",
       "        vertical-align: middle;\n",
       "    }\n",
       "\n",
       "    .dataframe tbody tr th {\n",
       "        vertical-align: top;\n",
       "    }\n",
       "\n",
       "    .dataframe thead th {\n",
       "        text-align: right;\n",
       "    }\n",
       "</style>\n",
       "<table border=\"1\" class=\"dataframe\">\n",
       "  <thead>\n",
       "    <tr style=\"text-align: right;\">\n",
       "      <th></th>\n",
       "      <th>date</th>\n",
       "      <th>date_year</th>\n",
       "      <th>date_month_no</th>\n",
       "      <th>date_month_name</th>\n",
       "      <th>date_day</th>\n",
       "      <th>date_day_of_week</th>\n",
       "      <th>date_day_of_week_name</th>\n",
       "      <th>date_is_weekend</th>\n",
       "    </tr>\n",
       "  </thead>\n",
       "  <tbody>\n",
       "    <tr>\n",
       "      <th>83</th>\n",
       "      <td>2018-08-11</td>\n",
       "      <td>2018</td>\n",
       "      <td>8</td>\n",
       "      <td>August</td>\n",
       "      <td>11</td>\n",
       "      <td>5</td>\n",
       "      <td>Saturday</td>\n",
       "      <td>1</td>\n",
       "    </tr>\n",
       "    <tr>\n",
       "      <th>204</th>\n",
       "      <td>2018-10-07</td>\n",
       "      <td>2018</td>\n",
       "      <td>10</td>\n",
       "      <td>October</td>\n",
       "      <td>7</td>\n",
       "      <td>6</td>\n",
       "      <td>Sunday</td>\n",
       "      <td>1</td>\n",
       "    </tr>\n",
       "  </tbody>\n",
       "</table>\n",
       "</div>"
      ],
      "text/plain": [
       "          date  date_year  date_month_no date_month_name  date_day  \\\n",
       "83  2018-08-11       2018              8          August        11   \n",
       "204 2018-10-07       2018             10         October         7   \n",
       "\n",
       "     date_day_of_week date_day_of_week_name  date_is_weekend  \n",
       "83                  5              Saturday                1  \n",
       "204                 6                Sunday                1  "
      ]
     },
     "execution_count": 45,
     "metadata": {},
     "output_type": "execute_result"
    }
   ],
   "source": [
    "date[\"date_is_weekend\"]=np.where(date[\"date_day_of_week_name\"].isin([\"Sunday\",\"Saturday\"]),1,0)\n",
    "date.sample(2)"
   ]
  },
  {
   "cell_type": "markdown",
   "id": "3697bcef",
   "metadata": {},
   "source": [
    "### Extract week of the year"
   ]
  },
  {
   "cell_type": "code",
   "execution_count": 51,
   "id": "38e406e6",
   "metadata": {},
   "outputs": [
    {
     "data": {
      "text/html": [
       "<div>\n",
       "<style scoped>\n",
       "    .dataframe tbody tr th:only-of-type {\n",
       "        vertical-align: middle;\n",
       "    }\n",
       "\n",
       "    .dataframe tbody tr th {\n",
       "        vertical-align: top;\n",
       "    }\n",
       "\n",
       "    .dataframe thead th {\n",
       "        text-align: right;\n",
       "    }\n",
       "</style>\n",
       "<table border=\"1\" class=\"dataframe\">\n",
       "  <thead>\n",
       "    <tr style=\"text-align: right;\">\n",
       "      <th></th>\n",
       "      <th>date</th>\n",
       "      <th>date_year</th>\n",
       "      <th>date_month_no</th>\n",
       "      <th>date_month_name</th>\n",
       "      <th>date_day</th>\n",
       "      <th>date_day_of_week</th>\n",
       "      <th>date_day_of_week_name</th>\n",
       "      <th>date_is_weekend</th>\n",
       "      <th>date_week_of_year</th>\n",
       "    </tr>\n",
       "  </thead>\n",
       "  <tbody>\n",
       "    <tr>\n",
       "      <th>359</th>\n",
       "      <td>2019-03-23</td>\n",
       "      <td>2019</td>\n",
       "      <td>3</td>\n",
       "      <td>March</td>\n",
       "      <td>23</td>\n",
       "      <td>5</td>\n",
       "      <td>Saturday</td>\n",
       "      <td>1</td>\n",
       "      <td>12</td>\n",
       "    </tr>\n",
       "    <tr>\n",
       "      <th>7</th>\n",
       "      <td>2019-03-27</td>\n",
       "      <td>2019</td>\n",
       "      <td>3</td>\n",
       "      <td>March</td>\n",
       "      <td>27</td>\n",
       "      <td>2</td>\n",
       "      <td>Wednesday</td>\n",
       "      <td>0</td>\n",
       "      <td>13</td>\n",
       "    </tr>\n",
       "  </tbody>\n",
       "</table>\n",
       "</div>"
      ],
      "text/plain": [
       "          date  date_year  date_month_no date_month_name  date_day  \\\n",
       "359 2019-03-23       2019              3           March        23   \n",
       "7   2019-03-27       2019              3           March        27   \n",
       "\n",
       "     date_day_of_week date_day_of_week_name  date_is_weekend  \\\n",
       "359                 5              Saturday                1   \n",
       "7                   2             Wednesday                0   \n",
       "\n",
       "     date_week_of_year  \n",
       "359                 12  \n",
       "7                   13  "
      ]
     },
     "execution_count": 51,
     "metadata": {},
     "output_type": "execute_result"
    }
   ],
   "source": [
    "date[\"date_week_of_year\"]=date[\"date\"].dt.isocalendar().week\n",
    "date.sample(2)"
   ]
  },
  {
   "cell_type": "markdown",
   "id": "3da5a6bd",
   "metadata": {},
   "source": [
    "### Extract Quarter "
   ]
  },
  {
   "cell_type": "code",
   "execution_count": 53,
   "id": "48d7bc30",
   "metadata": {
    "scrolled": false
   },
   "outputs": [
    {
     "data": {
      "text/html": [
       "<div>\n",
       "<style scoped>\n",
       "    .dataframe tbody tr th:only-of-type {\n",
       "        vertical-align: middle;\n",
       "    }\n",
       "\n",
       "    .dataframe tbody tr th {\n",
       "        vertical-align: top;\n",
       "    }\n",
       "\n",
       "    .dataframe thead th {\n",
       "        text-align: right;\n",
       "    }\n",
       "</style>\n",
       "<table border=\"1\" class=\"dataframe\">\n",
       "  <thead>\n",
       "    <tr style=\"text-align: right;\">\n",
       "      <th></th>\n",
       "      <th>date</th>\n",
       "      <th>date_year</th>\n",
       "      <th>date_month_no</th>\n",
       "      <th>date_month_name</th>\n",
       "      <th>date_day</th>\n",
       "      <th>date_day_of_week</th>\n",
       "      <th>date_day_of_week_name</th>\n",
       "      <th>date_is_weekend</th>\n",
       "      <th>date_week_of_year</th>\n",
       "      <th>date_quarter</th>\n",
       "    </tr>\n",
       "  </thead>\n",
       "  <tbody>\n",
       "    <tr>\n",
       "      <th>701</th>\n",
       "      <td>2018-11-25</td>\n",
       "      <td>2018</td>\n",
       "      <td>11</td>\n",
       "      <td>November</td>\n",
       "      <td>25</td>\n",
       "      <td>6</td>\n",
       "      <td>Sunday</td>\n",
       "      <td>1</td>\n",
       "      <td>47</td>\n",
       "      <td>4</td>\n",
       "    </tr>\n",
       "    <tr>\n",
       "      <th>516</th>\n",
       "      <td>2018-12-09</td>\n",
       "      <td>2018</td>\n",
       "      <td>12</td>\n",
       "      <td>December</td>\n",
       "      <td>9</td>\n",
       "      <td>6</td>\n",
       "      <td>Sunday</td>\n",
       "      <td>1</td>\n",
       "      <td>49</td>\n",
       "      <td>4</td>\n",
       "    </tr>\n",
       "  </tbody>\n",
       "</table>\n",
       "</div>"
      ],
      "text/plain": [
       "          date  date_year  date_month_no date_month_name  date_day  \\\n",
       "701 2018-11-25       2018             11        November        25   \n",
       "516 2018-12-09       2018             12        December         9   \n",
       "\n",
       "     date_day_of_week date_day_of_week_name  date_is_weekend  \\\n",
       "701                 6                Sunday                1   \n",
       "516                 6                Sunday                1   \n",
       "\n",
       "     date_week_of_year  date_quarter  \n",
       "701                 47             4  \n",
       "516                 49             4  "
      ]
     },
     "execution_count": 53,
     "metadata": {},
     "output_type": "execute_result"
    }
   ],
   "source": [
    "date[\"date_quarter\"]=date[\"date\"].dt.quarter\n",
    "date.sample(2)"
   ]
  },
  {
   "cell_type": "markdown",
   "id": "23bebd7e",
   "metadata": {},
   "source": [
    "### Extract Semester"
   ]
  },
  {
   "cell_type": "code",
   "execution_count": 59,
   "id": "33b1473b",
   "metadata": {},
   "outputs": [
    {
     "data": {
      "text/html": [
       "<div>\n",
       "<style scoped>\n",
       "    .dataframe tbody tr th:only-of-type {\n",
       "        vertical-align: middle;\n",
       "    }\n",
       "\n",
       "    .dataframe tbody tr th {\n",
       "        vertical-align: top;\n",
       "    }\n",
       "\n",
       "    .dataframe thead th {\n",
       "        text-align: right;\n",
       "    }\n",
       "</style>\n",
       "<table border=\"1\" class=\"dataframe\">\n",
       "  <thead>\n",
       "    <tr style=\"text-align: right;\">\n",
       "      <th></th>\n",
       "      <th>date</th>\n",
       "      <th>date_year</th>\n",
       "      <th>date_month_no</th>\n",
       "      <th>date_month_name</th>\n",
       "      <th>date_day</th>\n",
       "      <th>date_day_of_week</th>\n",
       "      <th>date_day_of_week_name</th>\n",
       "      <th>date_is_weekend</th>\n",
       "      <th>date_week_of_year</th>\n",
       "      <th>date_quarter</th>\n",
       "      <th>semester</th>\n",
       "    </tr>\n",
       "  </thead>\n",
       "  <tbody>\n",
       "    <tr>\n",
       "      <th>92</th>\n",
       "      <td>2019-05-30</td>\n",
       "      <td>2019</td>\n",
       "      <td>5</td>\n",
       "      <td>May</td>\n",
       "      <td>30</td>\n",
       "      <td>3</td>\n",
       "      <td>Thursday</td>\n",
       "      <td>0</td>\n",
       "      <td>22</td>\n",
       "      <td>2</td>\n",
       "      <td>1</td>\n",
       "    </tr>\n",
       "    <tr>\n",
       "      <th>592</th>\n",
       "      <td>2018-12-05</td>\n",
       "      <td>2018</td>\n",
       "      <td>12</td>\n",
       "      <td>December</td>\n",
       "      <td>5</td>\n",
       "      <td>2</td>\n",
       "      <td>Wednesday</td>\n",
       "      <td>0</td>\n",
       "      <td>49</td>\n",
       "      <td>4</td>\n",
       "      <td>2</td>\n",
       "    </tr>\n",
       "  </tbody>\n",
       "</table>\n",
       "</div>"
      ],
      "text/plain": [
       "          date  date_year  date_month_no date_month_name  date_day  \\\n",
       "92  2019-05-30       2019              5             May        30   \n",
       "592 2018-12-05       2018             12        December         5   \n",
       "\n",
       "     date_day_of_week date_day_of_week_name  date_is_weekend  \\\n",
       "92                  3              Thursday                0   \n",
       "592                 2             Wednesday                0   \n",
       "\n",
       "     date_week_of_year  date_quarter  semester  \n",
       "92                  22             2         1  \n",
       "592                 49             4         2  "
      ]
     },
     "execution_count": 59,
     "metadata": {},
     "output_type": "execute_result"
    }
   ],
   "source": [
    "date[\"semester\"]=np.where(date[\"date_quarter\"].isin([1,2]),1,2)\n",
    "date.sample(2)"
   ]
  },
  {
   "cell_type": "markdown",
   "id": "07e8ea85",
   "metadata": {},
   "source": [
    "### Extract time elapsed between dates"
   ]
  },
  {
   "cell_type": "code",
   "execution_count": 61,
   "id": "6d4285ce",
   "metadata": {},
   "outputs": [
    {
     "data": {
      "text/plain": [
       "datetime.datetime(2023, 4, 8, 11, 59, 32, 340993)"
      ]
     },
     "execution_count": 61,
     "metadata": {},
     "output_type": "execute_result"
    }
   ],
   "source": [
    "import datetime \n",
    "\n",
    "today=datetime.datetime.today()\n",
    "\n",
    "today"
   ]
  },
  {
   "cell_type": "code",
   "execution_count": 64,
   "id": "ebfc77eb",
   "metadata": {
    "collapsed": true
   },
   "outputs": [
    {
     "data": {
      "text/plain": [
       "0     1215 days 11:59:32.340993\n",
       "1     1697 days 11:59:32.340993\n",
       "2     1628 days 11:59:32.340993\n",
       "3     1330 days 11:59:32.340993\n",
       "4     1553 days 11:59:32.340993\n",
       "                 ...           \n",
       "995   1643 days 11:59:32.340993\n",
       "996   1584 days 11:59:32.340993\n",
       "997   1432 days 11:59:32.340993\n",
       "998   1497 days 11:59:32.340993\n",
       "999   1271 days 11:59:32.340993\n",
       "Name: date, Length: 1000, dtype: timedelta64[ns]"
      ]
     },
     "execution_count": 64,
     "metadata": {},
     "output_type": "execute_result"
    }
   ],
   "source": [
    "today-date[\"date\"]"
   ]
  },
  {
   "cell_type": "markdown",
   "id": "ee8106ed",
   "metadata": {},
   "source": [
    "# Time dataset"
   ]
  },
  {
   "cell_type": "markdown",
   "id": "76a3df5b",
   "metadata": {},
   "source": [
    "### Extract Hour"
   ]
  },
  {
   "cell_type": "code",
   "execution_count": 71,
   "id": "f34a2396",
   "metadata": {},
   "outputs": [
    {
     "data": {
      "text/html": [
       "<div>\n",
       "<style scoped>\n",
       "    .dataframe tbody tr th:only-of-type {\n",
       "        vertical-align: middle;\n",
       "    }\n",
       "\n",
       "    .dataframe tbody tr th {\n",
       "        vertical-align: top;\n",
       "    }\n",
       "\n",
       "    .dataframe thead th {\n",
       "        text-align: right;\n",
       "    }\n",
       "</style>\n",
       "<table border=\"1\" class=\"dataframe\">\n",
       "  <thead>\n",
       "    <tr style=\"text-align: right;\">\n",
       "      <th></th>\n",
       "      <th>date</th>\n",
       "      <th>hour</th>\n",
       "    </tr>\n",
       "  </thead>\n",
       "  <tbody>\n",
       "    <tr>\n",
       "      <th>169</th>\n",
       "      <td>2014-05-19 23:07:00</td>\n",
       "      <td>23</td>\n",
       "    </tr>\n",
       "    <tr>\n",
       "      <th>367</th>\n",
       "      <td>2012-06-17 23:51:00</td>\n",
       "      <td>23</td>\n",
       "    </tr>\n",
       "  </tbody>\n",
       "</table>\n",
       "</div>"
      ],
      "text/plain": [
       "                   date  hour\n",
       "169 2014-05-19 23:07:00    23\n",
       "367 2012-06-17 23:51:00    23"
      ]
     },
     "execution_count": 71,
     "metadata": {},
     "output_type": "execute_result"
    }
   ],
   "source": [
    "time[\"hour\"]=time[\"date\"].dt.hour\n",
    "time.sample(2)"
   ]
  },
  {
   "cell_type": "markdown",
   "id": "36abae6f",
   "metadata": {},
   "source": [
    "### Extract Minute"
   ]
  },
  {
   "cell_type": "code",
   "execution_count": 72,
   "id": "056484bc",
   "metadata": {},
   "outputs": [
    {
     "data": {
      "text/html": [
       "<div>\n",
       "<style scoped>\n",
       "    .dataframe tbody tr th:only-of-type {\n",
       "        vertical-align: middle;\n",
       "    }\n",
       "\n",
       "    .dataframe tbody tr th {\n",
       "        vertical-align: top;\n",
       "    }\n",
       "\n",
       "    .dataframe thead th {\n",
       "        text-align: right;\n",
       "    }\n",
       "</style>\n",
       "<table border=\"1\" class=\"dataframe\">\n",
       "  <thead>\n",
       "    <tr style=\"text-align: right;\">\n",
       "      <th></th>\n",
       "      <th>date</th>\n",
       "      <th>hour</th>\n",
       "      <th>minute</th>\n",
       "    </tr>\n",
       "  </thead>\n",
       "  <tbody>\n",
       "    <tr>\n",
       "      <th>686</th>\n",
       "      <td>2012-08-16 01:02:00</td>\n",
       "      <td>1</td>\n",
       "      <td>2</td>\n",
       "    </tr>\n",
       "    <tr>\n",
       "      <th>353</th>\n",
       "      <td>2013-07-27 00:48:00</td>\n",
       "      <td>0</td>\n",
       "      <td>48</td>\n",
       "    </tr>\n",
       "  </tbody>\n",
       "</table>\n",
       "</div>"
      ],
      "text/plain": [
       "                   date  hour  minute\n",
       "686 2012-08-16 01:02:00     1       2\n",
       "353 2013-07-27 00:48:00     0      48"
      ]
     },
     "execution_count": 72,
     "metadata": {},
     "output_type": "execute_result"
    }
   ],
   "source": [
    "time[\"minute\"]=time[\"date\"].dt.minute\n",
    "time.sample(2)"
   ]
  },
  {
   "cell_type": "markdown",
   "id": "bb4f5647",
   "metadata": {},
   "source": [
    "### Extract Sec"
   ]
  },
  {
   "cell_type": "code",
   "execution_count": 78,
   "id": "b161ff02",
   "metadata": {},
   "outputs": [
    {
     "data": {
      "text/html": [
       "<div>\n",
       "<style scoped>\n",
       "    .dataframe tbody tr th:only-of-type {\n",
       "        vertical-align: middle;\n",
       "    }\n",
       "\n",
       "    .dataframe tbody tr th {\n",
       "        vertical-align: top;\n",
       "    }\n",
       "\n",
       "    .dataframe thead th {\n",
       "        text-align: right;\n",
       "    }\n",
       "</style>\n",
       "<table border=\"1\" class=\"dataframe\">\n",
       "  <thead>\n",
       "    <tr style=\"text-align: right;\">\n",
       "      <th></th>\n",
       "      <th>date</th>\n",
       "      <th>hour</th>\n",
       "      <th>minute</th>\n",
       "      <th>second</th>\n",
       "    </tr>\n",
       "  </thead>\n",
       "  <tbody>\n",
       "    <tr>\n",
       "      <th>895</th>\n",
       "      <td>2013-09-03 00:51:00</td>\n",
       "      <td>0</td>\n",
       "      <td>51</td>\n",
       "      <td>0</td>\n",
       "    </tr>\n",
       "    <tr>\n",
       "      <th>390</th>\n",
       "      <td>2016-09-15 23:00:00</td>\n",
       "      <td>23</td>\n",
       "      <td>0</td>\n",
       "      <td>0</td>\n",
       "    </tr>\n",
       "  </tbody>\n",
       "</table>\n",
       "</div>"
      ],
      "text/plain": [
       "                   date  hour  minute  second\n",
       "895 2013-09-03 00:51:00     0      51       0\n",
       "390 2016-09-15 23:00:00    23       0       0"
      ]
     },
     "execution_count": 78,
     "metadata": {},
     "output_type": "execute_result"
    }
   ],
   "source": [
    "time[\"second\"]=time[\"date\"].dt.second\n",
    "time.sample(2)"
   ]
  },
  {
   "cell_type": "markdown",
   "id": "9826dbe3",
   "metadata": {},
   "source": [
    "### Extract time from datetime "
   ]
  },
  {
   "cell_type": "code",
   "execution_count": 80,
   "id": "f8a1d3a8",
   "metadata": {},
   "outputs": [
    {
     "data": {
      "text/html": [
       "<div>\n",
       "<style scoped>\n",
       "    .dataframe tbody tr th:only-of-type {\n",
       "        vertical-align: middle;\n",
       "    }\n",
       "\n",
       "    .dataframe tbody tr th {\n",
       "        vertical-align: top;\n",
       "    }\n",
       "\n",
       "    .dataframe thead th {\n",
       "        text-align: right;\n",
       "    }\n",
       "</style>\n",
       "<table border=\"1\" class=\"dataframe\">\n",
       "  <thead>\n",
       "    <tr style=\"text-align: right;\">\n",
       "      <th></th>\n",
       "      <th>date</th>\n",
       "      <th>hour</th>\n",
       "      <th>minute</th>\n",
       "      <th>second</th>\n",
       "      <th>time</th>\n",
       "    </tr>\n",
       "  </thead>\n",
       "  <tbody>\n",
       "    <tr>\n",
       "      <th>512</th>\n",
       "      <td>2016-01-15 02:22:00</td>\n",
       "      <td>2</td>\n",
       "      <td>22</td>\n",
       "      <td>0</td>\n",
       "      <td>02:22:00</td>\n",
       "    </tr>\n",
       "    <tr>\n",
       "      <th>81</th>\n",
       "      <td>2013-09-23 00:53:00</td>\n",
       "      <td>0</td>\n",
       "      <td>53</td>\n",
       "      <td>0</td>\n",
       "      <td>00:53:00</td>\n",
       "    </tr>\n",
       "  </tbody>\n",
       "</table>\n",
       "</div>"
      ],
      "text/plain": [
       "                   date  hour  minute  second      time\n",
       "512 2016-01-15 02:22:00     2      22       0  02:22:00\n",
       "81  2013-09-23 00:53:00     0      53       0  00:53:00"
      ]
     },
     "execution_count": 80,
     "metadata": {},
     "output_type": "execute_result"
    }
   ],
   "source": [
    "time[\"time\"]=time[\"date\"].dt.time\n",
    "time.sample(2)"
   ]
  },
  {
   "cell_type": "code",
   "execution_count": null,
   "id": "9a994865",
   "metadata": {},
   "outputs": [],
   "source": []
  }
 ],
 "metadata": {
  "kernelspec": {
   "display_name": "Python 3 (ipykernel)",
   "language": "python",
   "name": "python3"
  },
  "language_info": {
   "codemirror_mode": {
    "name": "ipython",
    "version": 3
   },
   "file_extension": ".py",
   "mimetype": "text/x-python",
   "name": "python",
   "nbconvert_exporter": "python",
   "pygments_lexer": "ipython3",
   "version": "3.9.13"
  }
 },
 "nbformat": 4,
 "nbformat_minor": 5
}
