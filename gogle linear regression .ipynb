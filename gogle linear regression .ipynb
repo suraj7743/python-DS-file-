{
 "cells": [
  {
   "cell_type": "code",
   "execution_count": 105,
   "id": "59c0f281",
   "metadata": {},
   "outputs": [],
   "source": [
    "import pandas as pd\n",
    "import sklearn as sns \n",
    "import matplotlib.pyplot as plt \n",
    "import numpy as np \n",
    "import math \n",
    "from sklearn.model_selection import train_test_split\n",
    "from sklearn.preprocessing import StandardScaler\n",
    "from sklearn.linear_model import LinearRegression\n",
    "from sklearn.metrics import mean_squared_error"
   ]
  },
  {
   "cell_type": "code",
   "execution_count": 2,
   "id": "b64df878",
   "metadata": {},
   "outputs": [
    {
     "data": {
      "text/html": [
       "<div>\n",
       "<style scoped>\n",
       "    .dataframe tbody tr th:only-of-type {\n",
       "        vertical-align: middle;\n",
       "    }\n",
       "\n",
       "    .dataframe tbody tr th {\n",
       "        vertical-align: top;\n",
       "    }\n",
       "\n",
       "    .dataframe thead th {\n",
       "        text-align: right;\n",
       "    }\n",
       "</style>\n",
       "<table border=\"1\" class=\"dataframe\">\n",
       "  <thead>\n",
       "    <tr style=\"text-align: right;\">\n",
       "      <th></th>\n",
       "      <th>Date</th>\n",
       "      <th>Open</th>\n",
       "      <th>High</th>\n",
       "      <th>Low</th>\n",
       "      <th>Close</th>\n",
       "      <th>Adj Close</th>\n",
       "      <th>Volume</th>\n",
       "    </tr>\n",
       "  </thead>\n",
       "  <tbody>\n",
       "    <tr>\n",
       "      <th>0</th>\n",
       "      <td>2004-08-19</td>\n",
       "      <td>50.050049</td>\n",
       "      <td>52.082081</td>\n",
       "      <td>48.028027</td>\n",
       "      <td>50.220219</td>\n",
       "      <td>50.220219</td>\n",
       "      <td>44659096</td>\n",
       "    </tr>\n",
       "    <tr>\n",
       "      <th>1</th>\n",
       "      <td>2004-08-20</td>\n",
       "      <td>50.555557</td>\n",
       "      <td>54.594597</td>\n",
       "      <td>50.300301</td>\n",
       "      <td>54.209209</td>\n",
       "      <td>54.209209</td>\n",
       "      <td>22834343</td>\n",
       "    </tr>\n",
       "    <tr>\n",
       "      <th>2</th>\n",
       "      <td>2004-08-23</td>\n",
       "      <td>55.430431</td>\n",
       "      <td>56.796799</td>\n",
       "      <td>54.579578</td>\n",
       "      <td>54.754753</td>\n",
       "      <td>54.754753</td>\n",
       "      <td>18256126</td>\n",
       "    </tr>\n",
       "    <tr>\n",
       "      <th>3</th>\n",
       "      <td>2004-08-24</td>\n",
       "      <td>55.675674</td>\n",
       "      <td>55.855858</td>\n",
       "      <td>51.836838</td>\n",
       "      <td>52.487488</td>\n",
       "      <td>52.487488</td>\n",
       "      <td>15247337</td>\n",
       "    </tr>\n",
       "    <tr>\n",
       "      <th>4</th>\n",
       "      <td>2004-08-25</td>\n",
       "      <td>52.532532</td>\n",
       "      <td>54.054054</td>\n",
       "      <td>51.991993</td>\n",
       "      <td>53.053055</td>\n",
       "      <td>53.053055</td>\n",
       "      <td>9188602</td>\n",
       "    </tr>\n",
       "  </tbody>\n",
       "</table>\n",
       "</div>"
      ],
      "text/plain": [
       "         Date       Open       High        Low      Close  Adj Close    Volume\n",
       "0  2004-08-19  50.050049  52.082081  48.028027  50.220219  50.220219  44659096\n",
       "1  2004-08-20  50.555557  54.594597  50.300301  54.209209  54.209209  22834343\n",
       "2  2004-08-23  55.430431  56.796799  54.579578  54.754753  54.754753  18256126\n",
       "3  2004-08-24  55.675674  55.855858  51.836838  52.487488  52.487488  15247337\n",
       "4  2004-08-25  52.532532  54.054054  51.991993  53.053055  53.053055   9188602"
      ]
     },
     "execution_count": 2,
     "metadata": {},
     "output_type": "execute_result"
    }
   ],
   "source": [
    "df=pd.read_csv(r\"C:\\Users\\cchap\\OneDrive\\Desktop\\GOOGL.csv\")\n",
    "df.head()"
   ]
  },
  {
   "cell_type": "code",
   "execution_count": 3,
   "id": "ca55ee29",
   "metadata": {},
   "outputs": [
    {
     "data": {
      "text/plain": [
       "(4431, 7)"
      ]
     },
     "execution_count": 3,
     "metadata": {},
     "output_type": "execute_result"
    }
   ],
   "source": [
    "df.shape"
   ]
  },
  {
   "cell_type": "code",
   "execution_count": 5,
   "id": "6b54611f",
   "metadata": {},
   "outputs": [
    {
     "data": {
      "text/html": [
       "<div>\n",
       "<style scoped>\n",
       "    .dataframe tbody tr th:only-of-type {\n",
       "        vertical-align: middle;\n",
       "    }\n",
       "\n",
       "    .dataframe tbody tr th {\n",
       "        vertical-align: top;\n",
       "    }\n",
       "\n",
       "    .dataframe thead th {\n",
       "        text-align: right;\n",
       "    }\n",
       "</style>\n",
       "<table border=\"1\" class=\"dataframe\">\n",
       "  <thead>\n",
       "    <tr style=\"text-align: right;\">\n",
       "      <th></th>\n",
       "      <th>Date</th>\n",
       "      <th>Open</th>\n",
       "      <th>High</th>\n",
       "      <th>Low</th>\n",
       "      <th>Close</th>\n",
       "      <th>Adj Close</th>\n",
       "      <th>Volume</th>\n",
       "    </tr>\n",
       "  </thead>\n",
       "  <tbody>\n",
       "    <tr>\n",
       "      <th>0</th>\n",
       "      <td>2004-08-19</td>\n",
       "      <td>50.050049</td>\n",
       "      <td>52.082081</td>\n",
       "      <td>48.028027</td>\n",
       "      <td>50.220219</td>\n",
       "      <td>50.220219</td>\n",
       "      <td>44659096</td>\n",
       "    </tr>\n",
       "    <tr>\n",
       "      <th>1</th>\n",
       "      <td>2004-08-20</td>\n",
       "      <td>50.555557</td>\n",
       "      <td>54.594597</td>\n",
       "      <td>50.300301</td>\n",
       "      <td>54.209209</td>\n",
       "      <td>54.209209</td>\n",
       "      <td>22834343</td>\n",
       "    </tr>\n",
       "    <tr>\n",
       "      <th>2</th>\n",
       "      <td>2004-08-23</td>\n",
       "      <td>55.430431</td>\n",
       "      <td>56.796799</td>\n",
       "      <td>54.579578</td>\n",
       "      <td>54.754753</td>\n",
       "      <td>54.754753</td>\n",
       "      <td>18256126</td>\n",
       "    </tr>\n",
       "    <tr>\n",
       "      <th>3</th>\n",
       "      <td>2004-08-24</td>\n",
       "      <td>55.675674</td>\n",
       "      <td>55.855858</td>\n",
       "      <td>51.836838</td>\n",
       "      <td>52.487488</td>\n",
       "      <td>52.487488</td>\n",
       "      <td>15247337</td>\n",
       "    </tr>\n",
       "    <tr>\n",
       "      <th>4</th>\n",
       "      <td>2004-08-25</td>\n",
       "      <td>52.532532</td>\n",
       "      <td>54.054054</td>\n",
       "      <td>51.991993</td>\n",
       "      <td>53.053055</td>\n",
       "      <td>53.053055</td>\n",
       "      <td>9188602</td>\n",
       "    </tr>\n",
       "    <tr>\n",
       "      <th>5</th>\n",
       "      <td>2004-08-26</td>\n",
       "      <td>52.527527</td>\n",
       "      <td>54.029030</td>\n",
       "      <td>52.382381</td>\n",
       "      <td>54.009010</td>\n",
       "      <td>54.009010</td>\n",
       "      <td>7094898</td>\n",
       "    </tr>\n",
       "    <tr>\n",
       "      <th>6</th>\n",
       "      <td>2004-08-27</td>\n",
       "      <td>54.104103</td>\n",
       "      <td>54.364365</td>\n",
       "      <td>52.897900</td>\n",
       "      <td>53.128128</td>\n",
       "      <td>53.128128</td>\n",
       "      <td>6211782</td>\n",
       "    </tr>\n",
       "    <tr>\n",
       "      <th>7</th>\n",
       "      <td>2004-08-30</td>\n",
       "      <td>52.692692</td>\n",
       "      <td>52.797798</td>\n",
       "      <td>51.056057</td>\n",
       "      <td>51.056057</td>\n",
       "      <td>51.056057</td>\n",
       "      <td>5196798</td>\n",
       "    </tr>\n",
       "    <tr>\n",
       "      <th>8</th>\n",
       "      <td>2004-08-31</td>\n",
       "      <td>51.201202</td>\n",
       "      <td>51.906906</td>\n",
       "      <td>51.131130</td>\n",
       "      <td>51.236237</td>\n",
       "      <td>51.236237</td>\n",
       "      <td>4917877</td>\n",
       "    </tr>\n",
       "    <tr>\n",
       "      <th>9</th>\n",
       "      <td>2004-09-01</td>\n",
       "      <td>51.401402</td>\n",
       "      <td>51.536537</td>\n",
       "      <td>49.884884</td>\n",
       "      <td>50.175175</td>\n",
       "      <td>50.175175</td>\n",
       "      <td>9138253</td>\n",
       "    </tr>\n",
       "    <tr>\n",
       "      <th>10</th>\n",
       "      <td>2004-09-02</td>\n",
       "      <td>49.644646</td>\n",
       "      <td>51.236237</td>\n",
       "      <td>49.519520</td>\n",
       "      <td>50.805805</td>\n",
       "      <td>50.805805</td>\n",
       "      <td>15118666</td>\n",
       "    </tr>\n",
       "  </tbody>\n",
       "</table>\n",
       "</div>"
      ],
      "text/plain": [
       "          Date       Open       High        Low      Close  Adj Close  \\\n",
       "0   2004-08-19  50.050049  52.082081  48.028027  50.220219  50.220219   \n",
       "1   2004-08-20  50.555557  54.594597  50.300301  54.209209  54.209209   \n",
       "2   2004-08-23  55.430431  56.796799  54.579578  54.754753  54.754753   \n",
       "3   2004-08-24  55.675674  55.855858  51.836838  52.487488  52.487488   \n",
       "4   2004-08-25  52.532532  54.054054  51.991993  53.053055  53.053055   \n",
       "5   2004-08-26  52.527527  54.029030  52.382381  54.009010  54.009010   \n",
       "6   2004-08-27  54.104103  54.364365  52.897900  53.128128  53.128128   \n",
       "7   2004-08-30  52.692692  52.797798  51.056057  51.056057  51.056057   \n",
       "8   2004-08-31  51.201202  51.906906  51.131130  51.236237  51.236237   \n",
       "9   2004-09-01  51.401402  51.536537  49.884884  50.175175  50.175175   \n",
       "10  2004-09-02  49.644646  51.236237  49.519520  50.805805  50.805805   \n",
       "\n",
       "      Volume  \n",
       "0   44659096  \n",
       "1   22834343  \n",
       "2   18256126  \n",
       "3   15247337  \n",
       "4    9188602  \n",
       "5    7094898  \n",
       "6    6211782  \n",
       "7    5196798  \n",
       "8    4917877  \n",
       "9    9138253  \n",
       "10  15118666  "
      ]
     },
     "execution_count": 5,
     "metadata": {},
     "output_type": "execute_result"
    }
   ],
   "source": [
    "df.head(11)"
   ]
  },
  {
   "cell_type": "code",
   "execution_count": 10,
   "id": "672a9d62",
   "metadata": {},
   "outputs": [
    {
     "data": {
      "text/plain": [
       "4431"
      ]
     },
     "execution_count": 10,
     "metadata": {},
     "output_type": "execute_result"
    }
   ],
   "source": [
    "len(df)"
   ]
  },
  {
   "cell_type": "code",
   "execution_count": 11,
   "id": "38b3928c",
   "metadata": {},
   "outputs": [
    {
     "data": {
      "text/plain": [
       "0.0022568269013766643"
      ]
     },
     "execution_count": 11,
     "metadata": {},
     "output_type": "execute_result"
    }
   ],
   "source": [
    "10/4431"
   ]
  },
  {
   "cell_type": "code",
   "execution_count": 17,
   "id": "a683d867",
   "metadata": {},
   "outputs": [
    {
     "data": {
      "text/plain": [
       "10"
      ]
     },
     "execution_count": 17,
     "metadata": {},
     "output_type": "execute_result"
    }
   ],
   "source": [
    "int(math.ceil(0.0022568269013766643*len(df)))"
   ]
  },
  {
   "cell_type": "code",
   "execution_count": 18,
   "id": "109ae735",
   "metadata": {},
   "outputs": [],
   "source": [
    "df['Hl_pct']=(df[\"High\"]-df[\"Low\"])/df[\"Low\"] *100.0"
   ]
  },
  {
   "cell_type": "code",
   "execution_count": 20,
   "id": "d611feac",
   "metadata": {},
   "outputs": [],
   "source": [
    "df[\"OC_pct\"]=(df[\"Close\"]-df[\"Open\"])/df[\"Open\"] *100.0"
   ]
  },
  {
   "cell_type": "code",
   "execution_count": 22,
   "id": "b7d6ea42",
   "metadata": {},
   "outputs": [],
   "source": [
    "df.drop(columns=[\"Open\",\"High\",\"Low\",\"Close\"],inplace=True)"
   ]
  },
  {
   "cell_type": "code",
   "execution_count": 31,
   "id": "665dfdc4",
   "metadata": {},
   "outputs": [],
   "source": [
    "forecast_out=int(math.ceil(0.01*len(df)))"
   ]
  },
  {
   "cell_type": "code",
   "execution_count": 33,
   "id": "c07bf757",
   "metadata": {},
   "outputs": [
    {
     "data": {
      "text/plain": [
       "45"
      ]
     },
     "execution_count": 33,
     "metadata": {},
     "output_type": "execute_result"
    }
   ],
   "source": [
    "forecast_out"
   ]
  },
  {
   "cell_type": "code",
   "execution_count": 25,
   "id": "844de15b",
   "metadata": {},
   "outputs": [
    {
     "data": {
      "text/plain": [
       "Index(['Date', 'Adj Close', 'Volume', 'Hl_pct', 'OC_pct'], dtype='object')"
      ]
     },
     "execution_count": 25,
     "metadata": {},
     "output_type": "execute_result"
    }
   ],
   "source": [
    "df.columns"
   ]
  },
  {
   "cell_type": "code",
   "execution_count": 26,
   "id": "fc6325b0",
   "metadata": {},
   "outputs": [],
   "source": [
    "forecast_col=\"Adj Close\""
   ]
  },
  {
   "cell_type": "code",
   "execution_count": 34,
   "id": "a5fda1b9",
   "metadata": {},
   "outputs": [],
   "source": [
    "df[\"label\"]=df[forecast_col].shift(-forecast_out)"
   ]
  },
  {
   "cell_type": "markdown",
   "id": "03d93261",
   "metadata": {},
   "source": [
    "## taking past 45 days data predict the next day data \n",
    "`"
   ]
  },
  {
   "cell_type": "code",
   "execution_count": 37,
   "id": "20c7ddff",
   "metadata": {},
   "outputs": [
    {
     "data": {
      "text/html": [
       "<div>\n",
       "<style scoped>\n",
       "    .dataframe tbody tr th:only-of-type {\n",
       "        vertical-align: middle;\n",
       "    }\n",
       "\n",
       "    .dataframe tbody tr th {\n",
       "        vertical-align: top;\n",
       "    }\n",
       "\n",
       "    .dataframe thead th {\n",
       "        text-align: right;\n",
       "    }\n",
       "</style>\n",
       "<table border=\"1\" class=\"dataframe\">\n",
       "  <thead>\n",
       "    <tr style=\"text-align: right;\">\n",
       "      <th></th>\n",
       "      <th>Date</th>\n",
       "      <th>Adj Close</th>\n",
       "      <th>Volume</th>\n",
       "      <th>Hl_pct</th>\n",
       "      <th>OC_pct</th>\n",
       "      <th>label</th>\n",
       "    </tr>\n",
       "  </thead>\n",
       "  <tbody>\n",
       "    <tr>\n",
       "      <th>0</th>\n",
       "      <td>2004-08-19</td>\n",
       "      <td>50.220219</td>\n",
       "      <td>44659096</td>\n",
       "      <td>8.441017</td>\n",
       "      <td>0.340000</td>\n",
       "      <td>86.301300</td>\n",
       "    </tr>\n",
       "    <tr>\n",
       "      <th>1</th>\n",
       "      <td>2004-08-20</td>\n",
       "      <td>54.209209</td>\n",
       "      <td>22834343</td>\n",
       "      <td>8.537317</td>\n",
       "      <td>7.227004</td>\n",
       "      <td>93.793793</td>\n",
       "    </tr>\n",
       "    <tr>\n",
       "      <th>2</th>\n",
       "      <td>2004-08-23</td>\n",
       "      <td>54.754753</td>\n",
       "      <td>18256126</td>\n",
       "      <td>4.062364</td>\n",
       "      <td>-1.218966</td>\n",
       "      <td>90.990990</td>\n",
       "    </tr>\n",
       "    <tr>\n",
       "      <th>3</th>\n",
       "      <td>2004-08-24</td>\n",
       "      <td>52.487488</td>\n",
       "      <td>15247337</td>\n",
       "      <td>7.753212</td>\n",
       "      <td>-5.726354</td>\n",
       "      <td>93.078079</td>\n",
       "    </tr>\n",
       "    <tr>\n",
       "      <th>4</th>\n",
       "      <td>2004-08-25</td>\n",
       "      <td>53.053055</td>\n",
       "      <td>9188602</td>\n",
       "      <td>3.966113</td>\n",
       "      <td>0.990858</td>\n",
       "      <td>96.746750</td>\n",
       "    </tr>\n",
       "  </tbody>\n",
       "</table>\n",
       "</div>"
      ],
      "text/plain": [
       "         Date  Adj Close    Volume    Hl_pct    OC_pct      label\n",
       "0  2004-08-19  50.220219  44659096  8.441017  0.340000  86.301300\n",
       "1  2004-08-20  54.209209  22834343  8.537317  7.227004  93.793793\n",
       "2  2004-08-23  54.754753  18256126  4.062364 -1.218966  90.990990\n",
       "3  2004-08-24  52.487488  15247337  7.753212 -5.726354  93.078079\n",
       "4  2004-08-25  53.053055   9188602  3.966113  0.990858  96.746750"
      ]
     },
     "execution_count": 37,
     "metadata": {},
     "output_type": "execute_result"
    }
   ],
   "source": [
    "df.head()"
   ]
  },
  {
   "cell_type": "code",
   "execution_count": 38,
   "id": "4ff51587",
   "metadata": {},
   "outputs": [],
   "source": [
    "df_clean=df.drop()"
   ]
  },
  {
   "cell_type": "code",
   "execution_count": 66,
   "id": "51d0faca",
   "metadata": {},
   "outputs": [],
   "source": [
    "df_clean.set_index(\"Date\",inplace=True)"
   ]
  },
  {
   "cell_type": "code",
   "execution_count": 67,
   "id": "fdfe0aa1",
   "metadata": {},
   "outputs": [],
   "source": [
    "x=df_clean.drop(columns=\"label\",axis=1)"
   ]
  },
  {
   "cell_type": "code",
   "execution_count": 68,
   "id": "1ba4ca98",
   "metadata": {},
   "outputs": [
    {
     "data": {
      "text/html": [
       "<div>\n",
       "<style scoped>\n",
       "    .dataframe tbody tr th:only-of-type {\n",
       "        vertical-align: middle;\n",
       "    }\n",
       "\n",
       "    .dataframe tbody tr th {\n",
       "        vertical-align: top;\n",
       "    }\n",
       "\n",
       "    .dataframe thead th {\n",
       "        text-align: right;\n",
       "    }\n",
       "</style>\n",
       "<table border=\"1\" class=\"dataframe\">\n",
       "  <thead>\n",
       "    <tr style=\"text-align: right;\">\n",
       "      <th></th>\n",
       "      <th>Adj Close</th>\n",
       "      <th>Volume</th>\n",
       "      <th>Hl_pct</th>\n",
       "      <th>OC_pct</th>\n",
       "      <th>label</th>\n",
       "    </tr>\n",
       "    <tr>\n",
       "      <th>Date</th>\n",
       "      <th></th>\n",
       "      <th></th>\n",
       "      <th></th>\n",
       "      <th></th>\n",
       "      <th></th>\n",
       "    </tr>\n",
       "  </thead>\n",
       "  <tbody>\n",
       "    <tr>\n",
       "      <th>2004-08-19</th>\n",
       "      <td>50.220219</td>\n",
       "      <td>44659096</td>\n",
       "      <td>8.441017</td>\n",
       "      <td>0.340000</td>\n",
       "      <td>86.301300</td>\n",
       "    </tr>\n",
       "    <tr>\n",
       "      <th>2004-08-20</th>\n",
       "      <td>54.209209</td>\n",
       "      <td>22834343</td>\n",
       "      <td>8.537317</td>\n",
       "      <td>7.227004</td>\n",
       "      <td>93.793793</td>\n",
       "    </tr>\n",
       "    <tr>\n",
       "      <th>2004-08-23</th>\n",
       "      <td>54.754753</td>\n",
       "      <td>18256126</td>\n",
       "      <td>4.062364</td>\n",
       "      <td>-1.218966</td>\n",
       "      <td>90.990990</td>\n",
       "    </tr>\n",
       "    <tr>\n",
       "      <th>2004-08-24</th>\n",
       "      <td>52.487488</td>\n",
       "      <td>15247337</td>\n",
       "      <td>7.753212</td>\n",
       "      <td>-5.726354</td>\n",
       "      <td>93.078079</td>\n",
       "    </tr>\n",
       "    <tr>\n",
       "      <th>2004-08-25</th>\n",
       "      <td>53.053055</td>\n",
       "      <td>9188602</td>\n",
       "      <td>3.966113</td>\n",
       "      <td>0.990858</td>\n",
       "      <td>96.746750</td>\n",
       "    </tr>\n",
       "  </tbody>\n",
       "</table>\n",
       "</div>"
      ],
      "text/plain": [
       "            Adj Close    Volume    Hl_pct    OC_pct      label\n",
       "Date                                                          \n",
       "2004-08-19  50.220219  44659096  8.441017  0.340000  86.301300\n",
       "2004-08-20  54.209209  22834343  8.537317  7.227004  93.793793\n",
       "2004-08-23  54.754753  18256126  4.062364 -1.218966  90.990990\n",
       "2004-08-24  52.487488  15247337  7.753212 -5.726354  93.078079\n",
       "2004-08-25  53.053055   9188602  3.966113  0.990858  96.746750"
      ]
     },
     "execution_count": 68,
     "metadata": {},
     "output_type": "execute_result"
    }
   ],
   "source": [
    "df_clean.head()"
   ]
  },
  {
   "cell_type": "code",
   "execution_count": 69,
   "id": "8770f5a7",
   "metadata": {},
   "outputs": [],
   "source": [
    "y=df_clean[\"label\"]"
   ]
  },
  {
   "cell_type": "code",
   "execution_count": 70,
   "id": "ce105293",
   "metadata": {},
   "outputs": [],
   "source": [
    "x_train,x_test,y_train,y_test=train_test_split(x,y,test_size=0.2)"
   ]
  },
  {
   "cell_type": "code",
   "execution_count": 71,
   "id": "890a2b7d",
   "metadata": {},
   "outputs": [
    {
     "name": "stdout",
     "output_type": "stream",
     "text": [
      "(3508, 4)\n",
      "(878, 4)\n",
      "(3508,)\n",
      "(878,)\n"
     ]
    }
   ],
   "source": [
    "print(x_train.shape)\n",
    "print(x_test.shape)\n",
    "print(y_train.shape)\n",
    "print(y_test.shape)"
   ]
  },
  {
   "cell_type": "markdown",
   "id": "7908d755",
   "metadata": {},
   "source": [
    "## need to scale the data using Standard Scaler"
   ]
  },
  {
   "cell_type": "code",
   "execution_count": 72,
   "id": "6f342f85",
   "metadata": {},
   "outputs": [],
   "source": [
    "sc=StandardScaler()"
   ]
  },
  {
   "cell_type": "code",
   "execution_count": 73,
   "id": "7cd56c3b",
   "metadata": {},
   "outputs": [],
   "source": [
    "x_train_sc=sc.fit_transform(x_train)\n",
    "x_test_sc=sc.fit_transform(x_test)"
   ]
  },
  {
   "cell_type": "code",
   "execution_count": 74,
   "id": "05d7bf24",
   "metadata": {},
   "outputs": [],
   "source": [
    "lr=LinearRegression()"
   ]
  },
  {
   "cell_type": "code",
   "execution_count": 127,
   "id": "4c6b282e",
   "metadata": {},
   "outputs": [
    {
     "data": {
      "text/plain": [
       "Index(['Adj Close', 'Volume', 'Hl_pct', 'OC_pct'], dtype='object')"
      ]
     },
     "execution_count": 127,
     "metadata": {},
     "output_type": "execute_result"
    }
   ],
   "source": [
    "x_train.columns"
   ]
  },
  {
   "cell_type": "code",
   "execution_count": 128,
   "id": "f6e4fcc7",
   "metadata": {},
   "outputs": [],
   "source": [
    "x_train_sc=pd.DataFrame(x_train_sc,columns=['Adj Close', 'Volume', 'Hl_pct', 'OC_pct'])\n",
    "x_test_sc=pd.DataFrame(x_test_sc,columns=['Adj Close', 'Volume', 'Hl_pct', 'OC_pct'])"
   ]
  },
  {
   "cell_type": "code",
   "execution_count": 129,
   "id": "d19d9b77",
   "metadata": {},
   "outputs": [
    {
     "data": {
      "text/plain": [
       "LinearRegression()"
      ]
     },
     "execution_count": 129,
     "metadata": {},
     "output_type": "execute_result"
    }
   ],
   "source": [
    "lr.fit(x_train,y_train)"
   ]
  },
  {
   "cell_type": "code",
   "execution_count": 130,
   "id": "254888ac",
   "metadata": {},
   "outputs": [
    {
     "data": {
      "text/plain": [
       "0.9805741407486803"
      ]
     },
     "execution_count": 130,
     "metadata": {},
     "output_type": "execute_result"
    }
   ],
   "source": [
    "lr.score(x_test,y_test)"
   ]
  },
  {
   "cell_type": "code",
   "execution_count": 135,
   "id": "24cd832e",
   "metadata": {
    "scrolled": true
   },
   "outputs": [
    {
     "name": "stderr",
     "output_type": "stream",
     "text": [
      "C:\\Users\\cchap\\anaconda3\\lib\\site-packages\\sklearn\\base.py:450: UserWarning: X does not have valid feature names, but LinearRegression was fitted with feature names\n",
      "  warnings.warn(\n"
     ]
    },
    {
     "data": {
      "text/plain": [
       "array([717.13296293])"
      ]
     },
     "execution_count": 135,
     "metadata": {},
     "output_type": "execute_result"
    }
   ],
   "source": [
    "lr.predict([x_test.iloc[0,:]])"
   ]
  },
  {
   "cell_type": "markdown",
   "id": "482b22f9",
   "metadata": {},
   "source": [
    "## model evaluation \n",
    "### mean square error \n",
    "### root mean square error\n",
    "#### required libraries in sklear.metrices import mean square"
   ]
  },
  {
   "cell_type": "code",
   "execution_count": 137,
   "id": "d11ed578",
   "metadata": {},
   "outputs": [],
   "source": [
    "mean=mean_squared_error(y_test,y_predict)\n",
    "rootmean=np.sqrt(mean)\n"
   ]
  },
  {
   "cell_type": "code",
   "execution_count": 138,
   "id": "da50eebb",
   "metadata": {},
   "outputs": [
    {
     "name": "stdout",
     "output_type": "stream",
     "text": [
      "7243.637526174308 85.10956189626584\n"
     ]
    }
   ],
   "source": [
    "print(mean,rootmean)"
   ]
  },
  {
   "cell_type": "markdown",
   "id": "0a90bcd9",
   "metadata": {},
   "source": [
    "## using polynomial regression\n"
   ]
  },
  {
   "cell_type": "code",
   "execution_count": 139,
   "id": "6bf77fe4",
   "metadata": {},
   "outputs": [],
   "source": [
    "from sklearn.preprocessing import PolynomialFeatures"
   ]
  },
  {
   "cell_type": "code",
   "execution_count": 190,
   "id": "b753c847",
   "metadata": {},
   "outputs": [],
   "source": [
    "pf=PolynomialFeatures(degree=2)"
   ]
  },
  {
   "cell_type": "code",
   "execution_count": 191,
   "id": "65924b4b",
   "metadata": {},
   "outputs": [],
   "source": [
    "x_train_poly=pf.fit_transform(x_train)\n",
    "x_test_poly=pf.fit_transform(x_test)"
   ]
  },
  {
   "cell_type": "code",
   "execution_count": 192,
   "id": "a1a6a887",
   "metadata": {},
   "outputs": [
    {
     "data": {
      "text/plain": [
       "(3508, 15)"
      ]
     },
     "execution_count": 192,
     "metadata": {},
     "output_type": "execute_result"
    }
   ],
   "source": [
    "x_train_poly.shape"
   ]
  },
  {
   "cell_type": "code",
   "execution_count": 193,
   "id": "72c2b2dc",
   "metadata": {},
   "outputs": [
    {
     "data": {
      "text/plain": [
       "LinearRegression()"
      ]
     },
     "execution_count": 193,
     "metadata": {},
     "output_type": "execute_result"
    }
   ],
   "source": [
    "lr.fit(x_train_poly,y_train)"
   ]
  },
  {
   "cell_type": "code",
   "execution_count": 194,
   "id": "e1ed8f63",
   "metadata": {},
   "outputs": [
    {
     "data": {
      "text/plain": [
       "0.9808678686916936"
      ]
     },
     "execution_count": 194,
     "metadata": {},
     "output_type": "execute_result"
    }
   ],
   "source": [
    "lr.score(x_test_poly,y_test)"
   ]
  },
  {
   "cell_type": "code",
   "execution_count": null,
   "id": "6b215171",
   "metadata": {},
   "outputs": [],
   "source": []
  },
  {
   "cell_type": "code",
   "execution_count": null,
   "id": "4dfade16",
   "metadata": {},
   "outputs": [],
   "source": []
  }
 ],
 "metadata": {
  "kernelspec": {
   "display_name": "Python 3 (ipykernel)",
   "language": "python",
   "name": "python3"
  },
  "language_info": {
   "codemirror_mode": {
    "name": "ipython",
    "version": 3
   },
   "file_extension": ".py",
   "mimetype": "text/x-python",
   "name": "python",
   "nbconvert_exporter": "python",
   "pygments_lexer": "ipython3",
   "version": "3.9.13"
  }
 },
 "nbformat": 4,
 "nbformat_minor": 5
}
